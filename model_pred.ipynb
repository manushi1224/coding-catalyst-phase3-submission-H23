{
 "cells": [
  {
   "cell_type": "code",
   "execution_count": 28,
   "metadata": {},
   "outputs": [
    {
     "name": "stdout",
     "output_type": "stream",
     "text": [
      "Slope: 0.9969324145125987\n",
      "Intercept: -4320060268449024.0\n"
     ]
    }
   ],
   "source": [
    "import pandas as pd\n",
    "from sklearn.linear_model import LinearRegression\n",
    "\n",
    "# Read the CSV file into a DataFrame\n",
    "data = pd.read_csv('./past_in_and_out_container_data.csv')\n",
    "\n",
    "# Drop rows with missing 'IN_TIME' or 'OUT_TIME' values\n",
    "data = data.dropna(subset=['IN_TIME', 'OUT_TIME'])\n",
    "\n",
    "# Remove leading or trailing spaces in the datetime strings\n",
    "data['IN_TIME'] = pd.to_datetime(data['IN_TIME'], format=\"%Y-%m-%d %H:%M:%S\", errors='coerce')\n",
    "data['OUT_TIME'] = pd.to_datetime(data['OUT_TIME'], format=\"%Y-%m-%d %H:%M:%S.%f\", errors='coerce')\n",
    "\n",
    "# Convert 'IN_TIME' and 'OUT_TIME' columns to datetime\n",
    "data['IN_TIME'] = pd.to_datetime(data['IN_TIME'])\n",
    "data['OUT_TIME'] = pd.to_datetime(data['OUT_TIME'])\n",
    "\n",
    "# Create an instance of the LinearRegression model\n",
    "model = LinearRegression()\n",
    "\n",
    "# Prepare the input features and target variable\n",
    "X = data['IN_TIME'].values.reshape(-1, 1)  # Reshape to a 2D array\n",
    "y = data['OUT_TIME'].values\n",
    "\n",
    "# Fit the model on the data\n",
    "model.fit(X, y)\n",
    "\n",
    "# Get the coefficients and intercept\n",
    "slope = model.coef_[0]\n",
    "intercept = model.intercept_\n",
    "\n",
    "# Print the slope and intercept\n",
    "print(\"Slope:\", slope)\n",
    "print(\"Intercept:\", intercept)\n"
   ]
  }
 ],
 "metadata": {
  "kernelspec": {
   "display_name": "Python 3",
   "language": "python",
   "name": "python3"
  },
  "language_info": {
   "codemirror_mode": {
    "name": "ipython",
    "version": 3
   },
   "file_extension": ".py",
   "mimetype": "text/x-python",
   "name": "python",
   "nbconvert_exporter": "python",
   "pygments_lexer": "ipython3",
   "version": "3.11.0"
  },
  "orig_nbformat": 4
 },
 "nbformat": 4,
 "nbformat_minor": 2
}
